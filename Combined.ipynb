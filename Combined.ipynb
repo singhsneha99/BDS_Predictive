{
  "nbformat": 4,
  "nbformat_minor": 0,
  "metadata": {
    "colab": {
      "provenance": [],
      "include_colab_link": true
    },
    "kernelspec": {
      "name": "python3",
      "display_name": "Python 3"
    },
    "language_info": {
      "name": "python"
    }
  },
  "cells": [
    {
      "cell_type": "markdown",
      "metadata": {
        "id": "view-in-github",
        "colab_type": "text"
      },
      "source": [
        "<a href=\"https://colab.research.google.com/github/singhsneha99/BDS_Predictive/blob/main/Combined.ipynb\" target=\"_parent\"><img src=\"https://colab.research.google.com/assets/colab-badge.svg\" alt=\"Open In Colab\"/></a>"
      ]
    },
    {
      "cell_type": "code",
      "source": [
        "import sys,os\n",
        "# Block which runs on both Google Colab and Local PC without any modification\n",
        "if 'google.colab' in sys.modules:    \n",
        "    project_path = \"/content/drive/My Drive/\"\n",
        "    # Google Colab lib\n",
        "    from google.colab import drive\n",
        "    # Mount the drive\n",
        "    drive.mount('/content/drive/', force_remount=True)\n",
        "    sys.path.append(project_path)\n",
        "    %cd $project_path\n",
        "\n",
        "# Let's look at the sys path\n",
        "print('Current working directory', os.getcwd())"
      ],
      "metadata": {
        "colab": {
          "base_uri": "https://localhost:8080/"
        },
        "id": "RrJoueW62K1p",
        "outputId": "6f68ba4c-98b1-4c38-9abc-e00717134f15"
      },
      "execution_count": 2,
      "outputs": [
        {
          "output_type": "stream",
          "name": "stdout",
          "text": [
            "Mounted at /content/drive/\n",
            "/content/drive/My Drive\n",
            "Current working directory /content/drive/My Drive\n"
          ]
        }
      ]
    },
    {
      "cell_type": "markdown",
      "source": [
        "LINEAR REGRESSION:"
      ],
      "metadata": {
        "id": "3PA3-6nCCzLc"
      }
    },
    {
      "cell_type": "code",
      "source": [
        "from sklearn.linear_model import LinearRegression\n",
        "import pandas as pd\n",
        "import numpy as np\n",
        "import matplotlib.pyplot as plt\n",
        "from sklearn.metrics import mean_absolute_error\n",
        "from sklearn.model_selection import train_test_split\n",
        "\n",
        "# Read the data\n",
        "rest = pd.read_csv('/content/drive/My Drive/TimeSeries_Data/Restaurants_time_series.csv')\n",
        "cb = pd.read_csv('/content/drive/My Drive/TimeSeries_Data/Citibike_time_series.csv')\n",
        "com = pd.read_csv('/content/drive/My Drive/TimeSeries_Data/Complaints_time_series.csv')\n",
        "ev = pd.read_csv('/content/drive/My Drive/TimeSeries_Data/Evictions_time_series.csv')\n",
        "ob = pd.read_csv('/content/drive/My Drive/TimeSeries_Data/Operating_Businesses_time_series.csv')\n",
        "hi=pd.read_csv('/content/drive/My Drive/TimeSeries_Data/health_inspections_time_series.csv')"
      ],
      "metadata": {
        "id": "0h7_QHh5ZBKR"
      },
      "execution_count": 3,
      "outputs": []
    },
    {
      "cell_type": "code",
      "source": [
        "# Convert yr-month to a datetime object\n",
        "rest['yr-month'] = pd.to_datetime(rest['yr-month'], format='%Y-%m')\n",
        "\n",
        "cb['yr-month'] = pd.to_datetime(cb['yr-month'], format='%Y-%m')\n",
        "com['yr-month'] = pd.to_datetime(com['yr-month'], format='%Y-%m')\n",
        "ev['yr-month'] = pd.to_datetime(ev['yr-month'], format='%Y-%m')\n",
        "ob['yr-month'] = pd.to_datetime(ob['yr-month'], format='%Y-%m')\n",
        "hi['yr-month'] = pd.to_datetime(hi['yr-month'], format='%Y-%m')\n",
        "\n",
        "\n",
        "\n"
      ],
      "metadata": {
        "id": "9eD7310cddnM"
      },
      "execution_count": 4,
      "outputs": []
    },
    {
      "cell_type": "code",
      "source": [
        "# Rename columns to 'tract_rest', 'tract_cb', 'tract_com', 'tract_ev', 'tract_ob', 'tract_hi'\n",
        "rest = rest.rename(columns={'tract': 'tract_rest'})\n",
        "cb = cb.rename(columns={'tract': 'tract_cb'})\n",
        "com = com.rename(columns={'tract': 'tract_com'})\n",
        "ev = ev.rename(columns={'tract': 'tract_ev'})\n",
        "ob = ob.rename(columns={'tract': 'tract_ob'})\n",
        "hi = hi.rename(columns={'target': 'tract_hi'})\n",
        "hi = hi.rename(columns={'avg_sales': 'SALE_PRICE'})\n"
      ],
      "metadata": {
        "id": "5yxSllgHZNHq"
      },
      "execution_count": 5,
      "outputs": []
    },
    {
      "cell_type": "code",
      "source": [
        "com.shape"
      ],
      "metadata": {
        "colab": {
          "base_uri": "https://localhost:8080/"
        },
        "id": "1y09a9oTlThF",
        "outputId": "692faa23-420e-4bc4-fa9e-6e762f106adf"
      },
      "execution_count": 6,
      "outputs": [
        {
          "output_type": "execute_result",
          "data": {
            "text/plain": [
              "(888, 5)"
            ]
          },
          "metadata": {},
          "execution_count": 6
        }
      ]
    },
    {
      "cell_type": "code",
      "source": [
        "cb.dtypes"
      ],
      "metadata": {
        "colab": {
          "base_uri": "https://localhost:8080/"
        },
        "id": "Cbe3X1HYm7jZ",
        "outputId": "d83dd951-6f22-4730-8f8c-d5511a644e92"
      },
      "execution_count": 7,
      "outputs": [
        {
          "output_type": "execute_result",
          "data": {
            "text/plain": [
              "yr-month            datetime64[ns]\n",
              "tract_1000_grp             float64\n",
              "SALE_PRICE                 float64\n",
              "counts_per_block             int64\n",
              "tract_cb                   float64\n",
              "dtype: object"
            ]
          },
          "metadata": {},
          "execution_count": 7
        }
      ]
    },
    {
      "cell_type": "code",
      "source": [
        "com.dtypes"
      ],
      "metadata": {
        "colab": {
          "base_uri": "https://localhost:8080/"
        },
        "id": "FyFNyjgSm-bf",
        "outputId": "0c14c1dd-40e8-4dfd-eb65-ea90c2635261"
      },
      "execution_count": 8,
      "outputs": [
        {
          "output_type": "execute_result",
          "data": {
            "text/plain": [
              "yr-month            datetime64[ns]\n",
              "tract_1000_grp             float64\n",
              "SALE_PRICE                 float64\n",
              "tract_com                  float64\n",
              "counts_per_block           float64\n",
              "dtype: object"
            ]
          },
          "metadata": {},
          "execution_count": 8
        }
      ]
    },
    {
      "cell_type": "code",
      "source": [
        "com.shape, cb.shape"
      ],
      "metadata": {
        "colab": {
          "base_uri": "https://localhost:8080/"
        },
        "id": "7d-RjQiEotQ5",
        "outputId": "eeece6d5-b9ed-475b-a7b6-ef9fff0b9b36"
      },
      "execution_count": 9,
      "outputs": [
        {
          "output_type": "execute_result",
          "data": {
            "text/plain": [
              "((888, 5), (753, 5))"
            ]
          },
          "metadata": {},
          "execution_count": 9
        }
      ]
    },
    {
      "cell_type": "code",
      "source": [
        "\n",
        "com"
      ],
      "metadata": {
        "colab": {
          "base_uri": "https://localhost:8080/",
          "height": 424
        },
        "id": "34892J1bqcJo",
        "outputId": "01fa7eb7-da7b-49b2-983c-fa6dd9d3b62f"
      },
      "execution_count": 11,
      "outputs": [
        {
          "output_type": "execute_result",
          "data": {
            "text/plain": [
              "      yr-month  tract_1000_grp    SALE_PRICE  tract_com  counts_per_block\n",
              "0   2014-01-01             1.0  1.217243e+06     1469.0            1469.0\n",
              "1   2014-01-01             2.0  1.121723e+06     2843.0            2843.0\n",
              "2   2014-01-01             3.0  6.194213e+05     1158.0            1158.0\n",
              "3   2014-01-01             4.0  6.203758e+05      666.0             666.0\n",
              "4   2014-01-01             5.0  6.229657e+05      628.0             628.0\n",
              "..         ...             ...           ...        ...               ...\n",
              "883 2023-03-01             4.0  8.602889e+05     1880.0            1880.0\n",
              "884 2023-03-01             5.0  8.808296e+05     1622.0            1622.0\n",
              "885 2023-03-01             6.0  9.306053e+05     1640.0            1640.0\n",
              "886 2023-03-01             7.0  6.492544e+05      514.0             514.0\n",
              "887 2023-03-01             8.0  6.941046e+05      622.0             622.0\n",
              "\n",
              "[888 rows x 5 columns]"
            ],
            "text/html": [
              "\n",
              "  <div id=\"df-77caddd7-b4f4-4c9f-bb11-019d4f7e1db7\">\n",
              "    <div class=\"colab-df-container\">\n",
              "      <div>\n",
              "<style scoped>\n",
              "    .dataframe tbody tr th:only-of-type {\n",
              "        vertical-align: middle;\n",
              "    }\n",
              "\n",
              "    .dataframe tbody tr th {\n",
              "        vertical-align: top;\n",
              "    }\n",
              "\n",
              "    .dataframe thead th {\n",
              "        text-align: right;\n",
              "    }\n",
              "</style>\n",
              "<table border=\"1\" class=\"dataframe\">\n",
              "  <thead>\n",
              "    <tr style=\"text-align: right;\">\n",
              "      <th></th>\n",
              "      <th>yr-month</th>\n",
              "      <th>tract_1000_grp</th>\n",
              "      <th>SALE_PRICE</th>\n",
              "      <th>tract_com</th>\n",
              "      <th>counts_per_block</th>\n",
              "    </tr>\n",
              "  </thead>\n",
              "  <tbody>\n",
              "    <tr>\n",
              "      <th>0</th>\n",
              "      <td>2014-01-01</td>\n",
              "      <td>1.0</td>\n",
              "      <td>1.217243e+06</td>\n",
              "      <td>1469.0</td>\n",
              "      <td>1469.0</td>\n",
              "    </tr>\n",
              "    <tr>\n",
              "      <th>1</th>\n",
              "      <td>2014-01-01</td>\n",
              "      <td>2.0</td>\n",
              "      <td>1.121723e+06</td>\n",
              "      <td>2843.0</td>\n",
              "      <td>2843.0</td>\n",
              "    </tr>\n",
              "    <tr>\n",
              "      <th>2</th>\n",
              "      <td>2014-01-01</td>\n",
              "      <td>3.0</td>\n",
              "      <td>6.194213e+05</td>\n",
              "      <td>1158.0</td>\n",
              "      <td>1158.0</td>\n",
              "    </tr>\n",
              "    <tr>\n",
              "      <th>3</th>\n",
              "      <td>2014-01-01</td>\n",
              "      <td>4.0</td>\n",
              "      <td>6.203758e+05</td>\n",
              "      <td>666.0</td>\n",
              "      <td>666.0</td>\n",
              "    </tr>\n",
              "    <tr>\n",
              "      <th>4</th>\n",
              "      <td>2014-01-01</td>\n",
              "      <td>5.0</td>\n",
              "      <td>6.229657e+05</td>\n",
              "      <td>628.0</td>\n",
              "      <td>628.0</td>\n",
              "    </tr>\n",
              "    <tr>\n",
              "      <th>...</th>\n",
              "      <td>...</td>\n",
              "      <td>...</td>\n",
              "      <td>...</td>\n",
              "      <td>...</td>\n",
              "      <td>...</td>\n",
              "    </tr>\n",
              "    <tr>\n",
              "      <th>883</th>\n",
              "      <td>2023-03-01</td>\n",
              "      <td>4.0</td>\n",
              "      <td>8.602889e+05</td>\n",
              "      <td>1880.0</td>\n",
              "      <td>1880.0</td>\n",
              "    </tr>\n",
              "    <tr>\n",
              "      <th>884</th>\n",
              "      <td>2023-03-01</td>\n",
              "      <td>5.0</td>\n",
              "      <td>8.808296e+05</td>\n",
              "      <td>1622.0</td>\n",
              "      <td>1622.0</td>\n",
              "    </tr>\n",
              "    <tr>\n",
              "      <th>885</th>\n",
              "      <td>2023-03-01</td>\n",
              "      <td>6.0</td>\n",
              "      <td>9.306053e+05</td>\n",
              "      <td>1640.0</td>\n",
              "      <td>1640.0</td>\n",
              "    </tr>\n",
              "    <tr>\n",
              "      <th>886</th>\n",
              "      <td>2023-03-01</td>\n",
              "      <td>7.0</td>\n",
              "      <td>6.492544e+05</td>\n",
              "      <td>514.0</td>\n",
              "      <td>514.0</td>\n",
              "    </tr>\n",
              "    <tr>\n",
              "      <th>887</th>\n",
              "      <td>2023-03-01</td>\n",
              "      <td>8.0</td>\n",
              "      <td>6.941046e+05</td>\n",
              "      <td>622.0</td>\n",
              "      <td>622.0</td>\n",
              "    </tr>\n",
              "  </tbody>\n",
              "</table>\n",
              "<p>888 rows × 5 columns</p>\n",
              "</div>\n",
              "      <button class=\"colab-df-convert\" onclick=\"convertToInteractive('df-77caddd7-b4f4-4c9f-bb11-019d4f7e1db7')\"\n",
              "              title=\"Convert this dataframe to an interactive table.\"\n",
              "              style=\"display:none;\">\n",
              "        \n",
              "  <svg xmlns=\"http://www.w3.org/2000/svg\" height=\"24px\"viewBox=\"0 0 24 24\"\n",
              "       width=\"24px\">\n",
              "    <path d=\"M0 0h24v24H0V0z\" fill=\"none\"/>\n",
              "    <path d=\"M18.56 5.44l.94 2.06.94-2.06 2.06-.94-2.06-.94-.94-2.06-.94 2.06-2.06.94zm-11 1L8.5 8.5l.94-2.06 2.06-.94-2.06-.94L8.5 2.5l-.94 2.06-2.06.94zm10 10l.94 2.06.94-2.06 2.06-.94-2.06-.94-.94-2.06-.94 2.06-2.06.94z\"/><path d=\"M17.41 7.96l-1.37-1.37c-.4-.4-.92-.59-1.43-.59-.52 0-1.04.2-1.43.59L10.3 9.45l-7.72 7.72c-.78.78-.78 2.05 0 2.83L4 21.41c.39.39.9.59 1.41.59.51 0 1.02-.2 1.41-.59l7.78-7.78 2.81-2.81c.8-.78.8-2.07 0-2.86zM5.41 20L4 18.59l7.72-7.72 1.47 1.35L5.41 20z\"/>\n",
              "  </svg>\n",
              "      </button>\n",
              "      \n",
              "  <style>\n",
              "    .colab-df-container {\n",
              "      display:flex;\n",
              "      flex-wrap:wrap;\n",
              "      gap: 12px;\n",
              "    }\n",
              "\n",
              "    .colab-df-convert {\n",
              "      background-color: #E8F0FE;\n",
              "      border: none;\n",
              "      border-radius: 50%;\n",
              "      cursor: pointer;\n",
              "      display: none;\n",
              "      fill: #1967D2;\n",
              "      height: 32px;\n",
              "      padding: 0 0 0 0;\n",
              "      width: 32px;\n",
              "    }\n",
              "\n",
              "    .colab-df-convert:hover {\n",
              "      background-color: #E2EBFA;\n",
              "      box-shadow: 0px 1px 2px rgba(60, 64, 67, 0.3), 0px 1px 3px 1px rgba(60, 64, 67, 0.15);\n",
              "      fill: #174EA6;\n",
              "    }\n",
              "\n",
              "    [theme=dark] .colab-df-convert {\n",
              "      background-color: #3B4455;\n",
              "      fill: #D2E3FC;\n",
              "    }\n",
              "\n",
              "    [theme=dark] .colab-df-convert:hover {\n",
              "      background-color: #434B5C;\n",
              "      box-shadow: 0px 1px 3px 1px rgba(0, 0, 0, 0.15);\n",
              "      filter: drop-shadow(0px 1px 2px rgba(0, 0, 0, 0.3));\n",
              "      fill: #FFFFFF;\n",
              "    }\n",
              "  </style>\n",
              "\n",
              "      <script>\n",
              "        const buttonEl =\n",
              "          document.querySelector('#df-77caddd7-b4f4-4c9f-bb11-019d4f7e1db7 button.colab-df-convert');\n",
              "        buttonEl.style.display =\n",
              "          google.colab.kernel.accessAllowed ? 'block' : 'none';\n",
              "\n",
              "        async function convertToInteractive(key) {\n",
              "          const element = document.querySelector('#df-77caddd7-b4f4-4c9f-bb11-019d4f7e1db7');\n",
              "          const dataTable =\n",
              "            await google.colab.kernel.invokeFunction('convertToInteractive',\n",
              "                                                     [key], {});\n",
              "          if (!dataTable) return;\n",
              "\n",
              "          const docLinkHtml = 'Like what you see? Visit the ' +\n",
              "            '<a target=\"_blank\" href=https://colab.research.google.com/notebooks/data_table.ipynb>data table notebook</a>'\n",
              "            + ' to learn more about interactive tables.';\n",
              "          element.innerHTML = '';\n",
              "          dataTable['output_type'] = 'display_data';\n",
              "          await google.colab.output.renderOutput(dataTable, element);\n",
              "          const docLink = document.createElement('div');\n",
              "          docLink.innerHTML = docLinkHtml;\n",
              "          element.appendChild(docLink);\n",
              "        }\n",
              "      </script>\n",
              "    </div>\n",
              "  </div>\n",
              "  "
            ]
          },
          "metadata": {},
          "execution_count": 11
        }
      ]
    },
    {
      "cell_type": "code",
      "source": [
        "hi.rename(columns={'tract_group':'tract_1000_grp'},inplace=True)\n"
      ],
      "metadata": {
        "id": "oe8K1OvCpg_L"
      },
      "execution_count": 12,
      "outputs": []
    },
    {
      "cell_type": "code",
      "source": [],
      "metadata": {
        "id": "TuxtaxvFo0Yf"
      },
      "execution_count": null,
      "outputs": []
    },
    {
      "cell_type": "code",
      "source": [
        "# Combine all datasets on column 'yr_month', only keeping values which are present for all columns\n",
        "df = pd.merge(cb, com[['yr-month','tract_1000_grp', 'tract_com']], on=['yr-month','tract_1000_grp'], how='left')\n",
        "df = pd.merge(df, ev[['yr-month','tract_1000_grp', 'tract_ev']], on=['yr-month','tract_1000_grp'], how='left')\n",
        "df = pd.merge(df, ob[['yr-month','tract_1000_grp', 'tract_ob']], on=['yr-month','tract_1000_grp'], how='left')\n",
        "df = pd.merge(df, hi[['yr-month','tract_1000_grp', 'tract_hi']], on=['yr-month','tract_1000_grp'], how='left')\n",
        "\n",
        "df.shape\n"
      ],
      "metadata": {
        "colab": {
          "base_uri": "https://localhost:8080/"
        },
        "id": "9rn62F87Z_kF",
        "outputId": "cf91732b-f966-4a8b-a74e-18f79081a758"
      },
      "execution_count": 21,
      "outputs": [
        {
          "output_type": "execute_result",
          "data": {
            "text/plain": [
              "(753, 9)"
            ]
          },
          "metadata": {},
          "execution_count": 21
        }
      ]
    },
    {
      "cell_type": "code",
      "source": [
        "df.isna().sum()"
      ],
      "metadata": {
        "colab": {
          "base_uri": "https://localhost:8080/"
        },
        "id": "gsIWI0OOk0cX",
        "outputId": "ac097e77-2554-47fd-beac-e670ff13fc48"
      },
      "execution_count": 22,
      "outputs": [
        {
          "output_type": "execute_result",
          "data": {
            "text/plain": [
              "yr-month              0\n",
              "tract_1000_grp        0\n",
              "SALE_PRICE            0\n",
              "counts_per_block      0\n",
              "tract_cb              0\n",
              "tract_com           109\n",
              "tract_ev            501\n",
              "tract_ob              0\n",
              "tract_hi            312\n",
              "dtype: int64"
            ]
          },
          "metadata": {},
          "execution_count": 22
        }
      ]
    },
    {
      "cell_type": "code",
      "source": [
        "df.head()"
      ],
      "metadata": {
        "colab": {
          "base_uri": "https://localhost:8080/",
          "height": 206
        },
        "id": "oYV-khV09ikI",
        "outputId": "641ce0c0-186b-495e-d0a1-52c88d565b18"
      },
      "execution_count": 24,
      "outputs": [
        {
          "output_type": "execute_result",
          "data": {
            "text/plain": [
              "    yr-month  tract_1000_grp    SALE_PRICE  counts_per_block  tract_cb  \\\n",
              "0 2014-01-01             1.0  1.217243e+06               825  231762.0   \n",
              "1 2014-10-01             1.0  1.177936e+06               895  639295.0   \n",
              "2 2014-11-01             1.0  1.103000e+06               698  410588.0   \n",
              "3 2014-12-01             1.0  1.106756e+06               840  307169.0   \n",
              "4 2014-02-01             1.0  1.120497e+06               657  175893.0   \n",
              "\n",
              "   tract_com  tract_ev  tract_ob  tract_hi  \n",
              "0     1469.0       NaN     118.0       NaN  \n",
              "1     1612.0       NaN      96.0       NaN  \n",
              "2     1398.0       NaN      67.0       NaN  \n",
              "3     1357.0       NaN      93.0       NaN  \n",
              "4     1310.0       NaN     123.0       NaN  "
            ],
            "text/html": [
              "\n",
              "  <div id=\"df-c77dd076-f786-4d61-bb26-0595c93de424\">\n",
              "    <div class=\"colab-df-container\">\n",
              "      <div>\n",
              "<style scoped>\n",
              "    .dataframe tbody tr th:only-of-type {\n",
              "        vertical-align: middle;\n",
              "    }\n",
              "\n",
              "    .dataframe tbody tr th {\n",
              "        vertical-align: top;\n",
              "    }\n",
              "\n",
              "    .dataframe thead th {\n",
              "        text-align: right;\n",
              "    }\n",
              "</style>\n",
              "<table border=\"1\" class=\"dataframe\">\n",
              "  <thead>\n",
              "    <tr style=\"text-align: right;\">\n",
              "      <th></th>\n",
              "      <th>yr-month</th>\n",
              "      <th>tract_1000_grp</th>\n",
              "      <th>SALE_PRICE</th>\n",
              "      <th>counts_per_block</th>\n",
              "      <th>tract_cb</th>\n",
              "      <th>tract_com</th>\n",
              "      <th>tract_ev</th>\n",
              "      <th>tract_ob</th>\n",
              "      <th>tract_hi</th>\n",
              "    </tr>\n",
              "  </thead>\n",
              "  <tbody>\n",
              "    <tr>\n",
              "      <th>0</th>\n",
              "      <td>2014-01-01</td>\n",
              "      <td>1.0</td>\n",
              "      <td>1.217243e+06</td>\n",
              "      <td>825</td>\n",
              "      <td>231762.0</td>\n",
              "      <td>1469.0</td>\n",
              "      <td>NaN</td>\n",
              "      <td>118.0</td>\n",
              "      <td>NaN</td>\n",
              "    </tr>\n",
              "    <tr>\n",
              "      <th>1</th>\n",
              "      <td>2014-10-01</td>\n",
              "      <td>1.0</td>\n",
              "      <td>1.177936e+06</td>\n",
              "      <td>895</td>\n",
              "      <td>639295.0</td>\n",
              "      <td>1612.0</td>\n",
              "      <td>NaN</td>\n",
              "      <td>96.0</td>\n",
              "      <td>NaN</td>\n",
              "    </tr>\n",
              "    <tr>\n",
              "      <th>2</th>\n",
              "      <td>2014-11-01</td>\n",
              "      <td>1.0</td>\n",
              "      <td>1.103000e+06</td>\n",
              "      <td>698</td>\n",
              "      <td>410588.0</td>\n",
              "      <td>1398.0</td>\n",
              "      <td>NaN</td>\n",
              "      <td>67.0</td>\n",
              "      <td>NaN</td>\n",
              "    </tr>\n",
              "    <tr>\n",
              "      <th>3</th>\n",
              "      <td>2014-12-01</td>\n",
              "      <td>1.0</td>\n",
              "      <td>1.106756e+06</td>\n",
              "      <td>840</td>\n",
              "      <td>307169.0</td>\n",
              "      <td>1357.0</td>\n",
              "      <td>NaN</td>\n",
              "      <td>93.0</td>\n",
              "      <td>NaN</td>\n",
              "    </tr>\n",
              "    <tr>\n",
              "      <th>4</th>\n",
              "      <td>2014-02-01</td>\n",
              "      <td>1.0</td>\n",
              "      <td>1.120497e+06</td>\n",
              "      <td>657</td>\n",
              "      <td>175893.0</td>\n",
              "      <td>1310.0</td>\n",
              "      <td>NaN</td>\n",
              "      <td>123.0</td>\n",
              "      <td>NaN</td>\n",
              "    </tr>\n",
              "  </tbody>\n",
              "</table>\n",
              "</div>\n",
              "      <button class=\"colab-df-convert\" onclick=\"convertToInteractive('df-c77dd076-f786-4d61-bb26-0595c93de424')\"\n",
              "              title=\"Convert this dataframe to an interactive table.\"\n",
              "              style=\"display:none;\">\n",
              "        \n",
              "  <svg xmlns=\"http://www.w3.org/2000/svg\" height=\"24px\"viewBox=\"0 0 24 24\"\n",
              "       width=\"24px\">\n",
              "    <path d=\"M0 0h24v24H0V0z\" fill=\"none\"/>\n",
              "    <path d=\"M18.56 5.44l.94 2.06.94-2.06 2.06-.94-2.06-.94-.94-2.06-.94 2.06-2.06.94zm-11 1L8.5 8.5l.94-2.06 2.06-.94-2.06-.94L8.5 2.5l-.94 2.06-2.06.94zm10 10l.94 2.06.94-2.06 2.06-.94-2.06-.94-.94-2.06-.94 2.06-2.06.94z\"/><path d=\"M17.41 7.96l-1.37-1.37c-.4-.4-.92-.59-1.43-.59-.52 0-1.04.2-1.43.59L10.3 9.45l-7.72 7.72c-.78.78-.78 2.05 0 2.83L4 21.41c.39.39.9.59 1.41.59.51 0 1.02-.2 1.41-.59l7.78-7.78 2.81-2.81c.8-.78.8-2.07 0-2.86zM5.41 20L4 18.59l7.72-7.72 1.47 1.35L5.41 20z\"/>\n",
              "  </svg>\n",
              "      </button>\n",
              "      \n",
              "  <style>\n",
              "    .colab-df-container {\n",
              "      display:flex;\n",
              "      flex-wrap:wrap;\n",
              "      gap: 12px;\n",
              "    }\n",
              "\n",
              "    .colab-df-convert {\n",
              "      background-color: #E8F0FE;\n",
              "      border: none;\n",
              "      border-radius: 50%;\n",
              "      cursor: pointer;\n",
              "      display: none;\n",
              "      fill: #1967D2;\n",
              "      height: 32px;\n",
              "      padding: 0 0 0 0;\n",
              "      width: 32px;\n",
              "    }\n",
              "\n",
              "    .colab-df-convert:hover {\n",
              "      background-color: #E2EBFA;\n",
              "      box-shadow: 0px 1px 2px rgba(60, 64, 67, 0.3), 0px 1px 3px 1px rgba(60, 64, 67, 0.15);\n",
              "      fill: #174EA6;\n",
              "    }\n",
              "\n",
              "    [theme=dark] .colab-df-convert {\n",
              "      background-color: #3B4455;\n",
              "      fill: #D2E3FC;\n",
              "    }\n",
              "\n",
              "    [theme=dark] .colab-df-convert:hover {\n",
              "      background-color: #434B5C;\n",
              "      box-shadow: 0px 1px 3px 1px rgba(0, 0, 0, 0.15);\n",
              "      filter: drop-shadow(0px 1px 2px rgba(0, 0, 0, 0.3));\n",
              "      fill: #FFFFFF;\n",
              "    }\n",
              "  </style>\n",
              "\n",
              "      <script>\n",
              "        const buttonEl =\n",
              "          document.querySelector('#df-c77dd076-f786-4d61-bb26-0595c93de424 button.colab-df-convert');\n",
              "        buttonEl.style.display =\n",
              "          google.colab.kernel.accessAllowed ? 'block' : 'none';\n",
              "\n",
              "        async function convertToInteractive(key) {\n",
              "          const element = document.querySelector('#df-c77dd076-f786-4d61-bb26-0595c93de424');\n",
              "          const dataTable =\n",
              "            await google.colab.kernel.invokeFunction('convertToInteractive',\n",
              "                                                     [key], {});\n",
              "          if (!dataTable) return;\n",
              "\n",
              "          const docLinkHtml = 'Like what you see? Visit the ' +\n",
              "            '<a target=\"_blank\" href=https://colab.research.google.com/notebooks/data_table.ipynb>data table notebook</a>'\n",
              "            + ' to learn more about interactive tables.';\n",
              "          element.innerHTML = '';\n",
              "          dataTable['output_type'] = 'display_data';\n",
              "          await google.colab.output.renderOutput(dataTable, element);\n",
              "          const docLink = document.createElement('div');\n",
              "          docLink.innerHTML = docLinkHtml;\n",
              "          element.appendChild(docLink);\n",
              "        }\n",
              "      </script>\n",
              "    </div>\n",
              "  </div>\n",
              "  "
            ]
          },
          "metadata": {},
          "execution_count": 24
        }
      ]
    },
    {
      "cell_type": "code",
      "source": [
        "df.head()\n",
        "df.to_csv('/content/drive/My Drive/TimeSeries_Data/merged_test.csv',index=False)\n"
      ],
      "metadata": {
        "id": "TskbqACofLq0"
      },
      "execution_count": 23,
      "outputs": []
    },
    {
      "cell_type": "code",
      "source": [
        "df3=df"
      ],
      "metadata": {
        "id": "io9HuwNC-aa3"
      },
      "execution_count": 41,
      "outputs": []
    },
    {
      "cell_type": "code",
      "source": [],
      "metadata": {
        "id": "f9AhDjCI-vD7"
      },
      "execution_count": null,
      "outputs": []
    },
    {
      "cell_type": "code",
      "source": [
        "df.isna().sum()"
      ],
      "metadata": {
        "colab": {
          "base_uri": "https://localhost:8080/"
        },
        "id": "0EZa9fEUee9q",
        "outputId": "25a8eaed-49b4-4c35-ef2f-ed182e38fa0e"
      },
      "execution_count": 26,
      "outputs": [
        {
          "output_type": "execute_result",
          "data": {
            "text/plain": [
              "yr-month              0\n",
              "tract_1000_grp        0\n",
              "SALE_PRICE            0\n",
              "counts_per_block      0\n",
              "tract_cb              0\n",
              "tract_com           109\n",
              "tract_ev            501\n",
              "tract_ob              0\n",
              "tract_hi            312\n",
              "dtype: int64"
            ]
          },
          "metadata": {},
          "execution_count": 26
        }
      ]
    },
    {
      "cell_type": "code",
      "source": [
        "df2 = pd.merge(cb, com[['yr-month','tract_1000_grp', 'tract_com']], on=['yr-month','tract_1000_grp'], how='left')\n",
        "df2 = pd.merge(df2, ob[['yr-month','tract_1000_grp', 'tract_ob']], on=['yr-month','tract_1000_grp'], how='left')\n",
        "#df2 = pd.merge(df2, rest[['yr-month','tract_1000_grp', 'tract_rest']], on=['yr-month','tract_1000_grp'], how='left')\n",
        "\n",
        "df2.shape"
      ],
      "metadata": {
        "colab": {
          "base_uri": "https://localhost:8080/"
        },
        "id": "8o2HVevO9DyZ",
        "outputId": "923b68ad-e223-4ebb-cc96-c18de77bab20"
      },
      "execution_count": 36,
      "outputs": [
        {
          "output_type": "execute_result",
          "data": {
            "text/plain": [
              "(753, 7)"
            ]
          },
          "metadata": {},
          "execution_count": 36
        }
      ]
    },
    {
      "cell_type": "code",
      "source": [
        "df2.isna().sum()"
      ],
      "metadata": {
        "colab": {
          "base_uri": "https://localhost:8080/"
        },
        "id": "2SrKpfgS9ywX",
        "outputId": "b386ee7e-b5fa-40b9-d1fc-9c580d3efb13"
      },
      "execution_count": 37,
      "outputs": [
        {
          "output_type": "execute_result",
          "data": {
            "text/plain": [
              "yr-month              0\n",
              "tract_1000_grp        0\n",
              "SALE_PRICE            0\n",
              "counts_per_block      0\n",
              "tract_cb              0\n",
              "tract_com           109\n",
              "tract_ob              0\n",
              "dtype: int64"
            ]
          },
          "metadata": {},
          "execution_count": 37
        }
      ]
    },
    {
      "cell_type": "code",
      "source": [
        "df2.dropna(axis=0, how='any', inplace=True)\n"
      ],
      "metadata": {
        "id": "juIWrpqK93IB"
      },
      "execution_count": 38,
      "outputs": []
    },
    {
      "cell_type": "code",
      "source": [
        "df2"
      ],
      "metadata": {
        "colab": {
          "base_uri": "https://localhost:8080/",
          "height": 424
        },
        "id": "G5I1AH3r-ORA",
        "outputId": "308372a4-9a9c-4339-886d-61779033de81"
      },
      "execution_count": 39,
      "outputs": [
        {
          "output_type": "execute_result",
          "data": {
            "text/plain": [
              "      yr-month  tract_1000_grp    SALE_PRICE  counts_per_block  tract_cb  \\\n",
              "0   2014-01-01             1.0  1.217243e+06               825  231762.0   \n",
              "1   2014-10-01             1.0  1.177936e+06               895  639295.0   \n",
              "2   2014-11-01             1.0  1.103000e+06               698  410588.0   \n",
              "3   2014-12-01             1.0  1.106756e+06               840  307169.0   \n",
              "4   2014-02-01             1.0  1.120497e+06               657  175893.0   \n",
              "..         ...             ...           ...               ...       ...   \n",
              "639 2023-02-01             6.0  8.991405e+05               148   95658.0   \n",
              "640 2023-03-01             6.0  9.306053e+05               228  118620.0   \n",
              "641 2023-01-01             7.0  7.538367e+05               110     206.0   \n",
              "642 2023-02-01             7.0  6.872055e+05                99     586.0   \n",
              "643 2023-03-01             7.0  6.492544e+05               119    1084.0   \n",
              "\n",
              "     tract_com  tract_ob  \n",
              "0       1469.0     118.0  \n",
              "1       1612.0      96.0  \n",
              "2       1398.0      67.0  \n",
              "3       1357.0      93.0  \n",
              "4       1310.0     123.0  \n",
              "..         ...       ...  \n",
              "639     1299.0      12.0  \n",
              "640     1640.0      18.0  \n",
              "641      528.0       2.0  \n",
              "642      377.0       2.0  \n",
              "643      514.0       2.0  \n",
              "\n",
              "[644 rows x 7 columns]"
            ],
            "text/html": [
              "\n",
              "  <div id=\"df-4cba7b29-cfae-4d6d-8c8d-140f92a80ac9\">\n",
              "    <div class=\"colab-df-container\">\n",
              "      <div>\n",
              "<style scoped>\n",
              "    .dataframe tbody tr th:only-of-type {\n",
              "        vertical-align: middle;\n",
              "    }\n",
              "\n",
              "    .dataframe tbody tr th {\n",
              "        vertical-align: top;\n",
              "    }\n",
              "\n",
              "    .dataframe thead th {\n",
              "        text-align: right;\n",
              "    }\n",
              "</style>\n",
              "<table border=\"1\" class=\"dataframe\">\n",
              "  <thead>\n",
              "    <tr style=\"text-align: right;\">\n",
              "      <th></th>\n",
              "      <th>yr-month</th>\n",
              "      <th>tract_1000_grp</th>\n",
              "      <th>SALE_PRICE</th>\n",
              "      <th>counts_per_block</th>\n",
              "      <th>tract_cb</th>\n",
              "      <th>tract_com</th>\n",
              "      <th>tract_ob</th>\n",
              "    </tr>\n",
              "  </thead>\n",
              "  <tbody>\n",
              "    <tr>\n",
              "      <th>0</th>\n",
              "      <td>2014-01-01</td>\n",
              "      <td>1.0</td>\n",
              "      <td>1.217243e+06</td>\n",
              "      <td>825</td>\n",
              "      <td>231762.0</td>\n",
              "      <td>1469.0</td>\n",
              "      <td>118.0</td>\n",
              "    </tr>\n",
              "    <tr>\n",
              "      <th>1</th>\n",
              "      <td>2014-10-01</td>\n",
              "      <td>1.0</td>\n",
              "      <td>1.177936e+06</td>\n",
              "      <td>895</td>\n",
              "      <td>639295.0</td>\n",
              "      <td>1612.0</td>\n",
              "      <td>96.0</td>\n",
              "    </tr>\n",
              "    <tr>\n",
              "      <th>2</th>\n",
              "      <td>2014-11-01</td>\n",
              "      <td>1.0</td>\n",
              "      <td>1.103000e+06</td>\n",
              "      <td>698</td>\n",
              "      <td>410588.0</td>\n",
              "      <td>1398.0</td>\n",
              "      <td>67.0</td>\n",
              "    </tr>\n",
              "    <tr>\n",
              "      <th>3</th>\n",
              "      <td>2014-12-01</td>\n",
              "      <td>1.0</td>\n",
              "      <td>1.106756e+06</td>\n",
              "      <td>840</td>\n",
              "      <td>307169.0</td>\n",
              "      <td>1357.0</td>\n",
              "      <td>93.0</td>\n",
              "    </tr>\n",
              "    <tr>\n",
              "      <th>4</th>\n",
              "      <td>2014-02-01</td>\n",
              "      <td>1.0</td>\n",
              "      <td>1.120497e+06</td>\n",
              "      <td>657</td>\n",
              "      <td>175893.0</td>\n",
              "      <td>1310.0</td>\n",
              "      <td>123.0</td>\n",
              "    </tr>\n",
              "    <tr>\n",
              "      <th>...</th>\n",
              "      <td>...</td>\n",
              "      <td>...</td>\n",
              "      <td>...</td>\n",
              "      <td>...</td>\n",
              "      <td>...</td>\n",
              "      <td>...</td>\n",
              "      <td>...</td>\n",
              "    </tr>\n",
              "    <tr>\n",
              "      <th>639</th>\n",
              "      <td>2023-02-01</td>\n",
              "      <td>6.0</td>\n",
              "      <td>8.991405e+05</td>\n",
              "      <td>148</td>\n",
              "      <td>95658.0</td>\n",
              "      <td>1299.0</td>\n",
              "      <td>12.0</td>\n",
              "    </tr>\n",
              "    <tr>\n",
              "      <th>640</th>\n",
              "      <td>2023-03-01</td>\n",
              "      <td>6.0</td>\n",
              "      <td>9.306053e+05</td>\n",
              "      <td>228</td>\n",
              "      <td>118620.0</td>\n",
              "      <td>1640.0</td>\n",
              "      <td>18.0</td>\n",
              "    </tr>\n",
              "    <tr>\n",
              "      <th>641</th>\n",
              "      <td>2023-01-01</td>\n",
              "      <td>7.0</td>\n",
              "      <td>7.538367e+05</td>\n",
              "      <td>110</td>\n",
              "      <td>206.0</td>\n",
              "      <td>528.0</td>\n",
              "      <td>2.0</td>\n",
              "    </tr>\n",
              "    <tr>\n",
              "      <th>642</th>\n",
              "      <td>2023-02-01</td>\n",
              "      <td>7.0</td>\n",
              "      <td>6.872055e+05</td>\n",
              "      <td>99</td>\n",
              "      <td>586.0</td>\n",
              "      <td>377.0</td>\n",
              "      <td>2.0</td>\n",
              "    </tr>\n",
              "    <tr>\n",
              "      <th>643</th>\n",
              "      <td>2023-03-01</td>\n",
              "      <td>7.0</td>\n",
              "      <td>6.492544e+05</td>\n",
              "      <td>119</td>\n",
              "      <td>1084.0</td>\n",
              "      <td>514.0</td>\n",
              "      <td>2.0</td>\n",
              "    </tr>\n",
              "  </tbody>\n",
              "</table>\n",
              "<p>644 rows × 7 columns</p>\n",
              "</div>\n",
              "      <button class=\"colab-df-convert\" onclick=\"convertToInteractive('df-4cba7b29-cfae-4d6d-8c8d-140f92a80ac9')\"\n",
              "              title=\"Convert this dataframe to an interactive table.\"\n",
              "              style=\"display:none;\">\n",
              "        \n",
              "  <svg xmlns=\"http://www.w3.org/2000/svg\" height=\"24px\"viewBox=\"0 0 24 24\"\n",
              "       width=\"24px\">\n",
              "    <path d=\"M0 0h24v24H0V0z\" fill=\"none\"/>\n",
              "    <path d=\"M18.56 5.44l.94 2.06.94-2.06 2.06-.94-2.06-.94-.94-2.06-.94 2.06-2.06.94zm-11 1L8.5 8.5l.94-2.06 2.06-.94-2.06-.94L8.5 2.5l-.94 2.06-2.06.94zm10 10l.94 2.06.94-2.06 2.06-.94-2.06-.94-.94-2.06-.94 2.06-2.06.94z\"/><path d=\"M17.41 7.96l-1.37-1.37c-.4-.4-.92-.59-1.43-.59-.52 0-1.04.2-1.43.59L10.3 9.45l-7.72 7.72c-.78.78-.78 2.05 0 2.83L4 21.41c.39.39.9.59 1.41.59.51 0 1.02-.2 1.41-.59l7.78-7.78 2.81-2.81c.8-.78.8-2.07 0-2.86zM5.41 20L4 18.59l7.72-7.72 1.47 1.35L5.41 20z\"/>\n",
              "  </svg>\n",
              "      </button>\n",
              "      \n",
              "  <style>\n",
              "    .colab-df-container {\n",
              "      display:flex;\n",
              "      flex-wrap:wrap;\n",
              "      gap: 12px;\n",
              "    }\n",
              "\n",
              "    .colab-df-convert {\n",
              "      background-color: #E8F0FE;\n",
              "      border: none;\n",
              "      border-radius: 50%;\n",
              "      cursor: pointer;\n",
              "      display: none;\n",
              "      fill: #1967D2;\n",
              "      height: 32px;\n",
              "      padding: 0 0 0 0;\n",
              "      width: 32px;\n",
              "    }\n",
              "\n",
              "    .colab-df-convert:hover {\n",
              "      background-color: #E2EBFA;\n",
              "      box-shadow: 0px 1px 2px rgba(60, 64, 67, 0.3), 0px 1px 3px 1px rgba(60, 64, 67, 0.15);\n",
              "      fill: #174EA6;\n",
              "    }\n",
              "\n",
              "    [theme=dark] .colab-df-convert {\n",
              "      background-color: #3B4455;\n",
              "      fill: #D2E3FC;\n",
              "    }\n",
              "\n",
              "    [theme=dark] .colab-df-convert:hover {\n",
              "      background-color: #434B5C;\n",
              "      box-shadow: 0px 1px 3px 1px rgba(0, 0, 0, 0.15);\n",
              "      filter: drop-shadow(0px 1px 2px rgba(0, 0, 0, 0.3));\n",
              "      fill: #FFFFFF;\n",
              "    }\n",
              "  </style>\n",
              "\n",
              "      <script>\n",
              "        const buttonEl =\n",
              "          document.querySelector('#df-4cba7b29-cfae-4d6d-8c8d-140f92a80ac9 button.colab-df-convert');\n",
              "        buttonEl.style.display =\n",
              "          google.colab.kernel.accessAllowed ? 'block' : 'none';\n",
              "\n",
              "        async function convertToInteractive(key) {\n",
              "          const element = document.querySelector('#df-4cba7b29-cfae-4d6d-8c8d-140f92a80ac9');\n",
              "          const dataTable =\n",
              "            await google.colab.kernel.invokeFunction('convertToInteractive',\n",
              "                                                     [key], {});\n",
              "          if (!dataTable) return;\n",
              "\n",
              "          const docLinkHtml = 'Like what you see? Visit the ' +\n",
              "            '<a target=\"_blank\" href=https://colab.research.google.com/notebooks/data_table.ipynb>data table notebook</a>'\n",
              "            + ' to learn more about interactive tables.';\n",
              "          element.innerHTML = '';\n",
              "          dataTable['output_type'] = 'display_data';\n",
              "          await google.colab.output.renderOutput(dataTable, element);\n",
              "          const docLink = document.createElement('div');\n",
              "          docLink.innerHTML = docLinkHtml;\n",
              "          element.appendChild(docLink);\n",
              "        }\n",
              "      </script>\n",
              "    </div>\n",
              "  </div>\n",
              "  "
            ]
          },
          "metadata": {},
          "execution_count": 39
        }
      ]
    },
    {
      "cell_type": "code",
      "source": [
        "df2.to_csv('/content/drive/My Drive/TimeSeries_Data/larger_merged.csv',index=False)"
      ],
      "metadata": {
        "id": "Vx3px9SZ-bp_"
      },
      "execution_count": 40,
      "outputs": []
    },
    {
      "cell_type": "code",
      "source": [
        "df3.dropna(axis=0, how='any', inplace=True)"
      ],
      "metadata": {
        "id": "TMeQZIEd-wPM"
      },
      "execution_count": 42,
      "outputs": []
    },
    {
      "cell_type": "code",
      "source": [
        "df3.shape"
      ],
      "metadata": {
        "colab": {
          "base_uri": "https://localhost:8080/"
        },
        "id": "p9eSBf62-zSg",
        "outputId": "2c616a4e-bc5e-4f83-f732-1c60c9d04478"
      },
      "execution_count": 43,
      "outputs": [
        {
          "output_type": "execute_result",
          "data": {
            "text/plain": [
              "(209, 9)"
            ]
          },
          "metadata": {},
          "execution_count": 43
        }
      ]
    },
    {
      "cell_type": "code",
      "source": [
        "df3.to_csv('/content/drive/My Drive/TimeSeries_Data/nonull.csv',index=False)"
      ],
      "metadata": {
        "id": "vWdQa94A-1E1"
      },
      "execution_count": 44,
      "outputs": []
    }
  ]
}